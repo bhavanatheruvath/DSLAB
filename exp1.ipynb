{
 "cells": [
  {
   "cell_type": "code",
   "execution_count": 1,
   "id": "5ec230f5",
   "metadata": {},
   "outputs": [],
   "source": [
    "import numpy as n\n",
    "import random"
   ]
  },
  {
   "cell_type": "markdown",
   "id": "c1c0d333",
   "metadata": {},
   "source": [
    "**1. Numpy pgm to convert F degree to Centigrade degree. F are stored in a ndarray**"
   ]
  },
  {
   "cell_type": "code",
   "execution_count": 48,
   "id": "84dec5a1",
   "metadata": {},
   "outputs": [
    {
     "name": "stdout",
     "output_type": "stream",
     "text": [
      "20F = -6.67 C\n",
      "30F = -1.11 C\n",
      "40F = 4.44 C\n",
      "50F = 10.0 C\n"
     ]
    }
   ],
   "source": [
    "F = n.array([20,30,40,50])\n",
    "for i in F:\n",
    "    print(f\"{i}F = {((5/9)*(i-32)).round(2)} C\")"
   ]
  },
  {
   "cell_type": "markdown",
   "id": "233f7826",
   "metadata": {},
   "source": [
    "**2. Numpy pgm to create a random array with 1000 elements and compute the avg,variance,sd of array elements.**"
   ]
  },
  {
   "cell_type": "code",
   "execution_count": 49,
   "id": "1e599915",
   "metadata": {},
   "outputs": [
    {
     "name": "stdout",
     "output_type": "stream",
     "text": [
      "Average :  1291.989\n",
      "Variance :  531962.640879\n",
      "SD :  729.357690628542\n"
     ]
    }
   ],
   "source": [
    "ar = n.random.randint(1,2546,1000)\n",
    "print(\"Average : \", n.average(ar))\n",
    "print(\"Variance : \", n.var(ar))\n",
    "print(\"SD : \", n.std(ar))"
   ]
  },
  {
   "cell_type": "markdown",
   "id": "e0e64dd0",
   "metadata": {},
   "source": [
    "**3. Numpy pgm to convert angles from degrees to radians for all elements in a given array**"
   ]
  },
  {
   "cell_type": "code",
   "execution_count": 50,
   "id": "0fb57658",
   "metadata": {},
   "outputs": [
    {
     "name": "stdout",
     "output_type": "stream",
     "text": [
      "123 degrees = 2.15 radians\n",
      "115 degrees = 2.01 radians\n",
      "23 degrees = 0.4 radians\n",
      "224 degrees = 3.91 radians\n",
      "128 degrees = 2.23 radians\n"
     ]
    }
   ],
   "source": [
    "arr = n.random.randint(0,360,5)\n",
    "for i in arr:\n",
    "    print(f\"{i} degrees = {n.deg2rad(i).round(2)} radians\")\n"
   ]
  },
  {
   "cell_type": "markdown",
   "id": "cd1c4a77",
   "metadata": {},
   "source": [
    "**4.Numpy pgm to calculate difference bw neighbouring elements elementwise of a given array.**"
   ]
  },
  {
   "cell_type": "code",
   "execution_count": 47,
   "id": "720d4e09",
   "metadata": {},
   "outputs": [
    {
     "name": "stdout",
     "output_type": "stream",
     "text": [
      "[51 37 83 15 27]\n",
      "[-14  46 -68  12]\n"
     ]
    }
   ],
   "source": [
    "arr = n.random.randint(0,100,5)\n",
    "print(arr)\n",
    "print(n.diff(arr))"
   ]
  },
  {
   "cell_type": "markdown",
   "id": "cf1f5eda",
   "metadata": {},
   "source": [
    "**5. Sort a given complex array using real part first and then imaginary part**"
   ]
  },
  {
   "cell_type": "code",
   "execution_count": 31,
   "id": "3d543e72",
   "metadata": {},
   "outputs": [
    {
     "name": "stdout",
     "output_type": "stream",
     "text": [
      "[ 2.  +1.j   5.23+3.4j  8.3 +3.j  10.  +2.j ]\n"
     ]
    }
   ],
   "source": [
    "print(n.sort_complex([10+2j,2+1j,8.3+3j,5.23+3.4j]))"
   ]
  },
  {
   "cell_type": "markdown",
   "id": "b3eebdfd",
   "metadata": {},
   "source": [
    "**6. ID array with random numbers and print the values greater than 4**"
   ]
  },
  {
   "cell_type": "code",
   "execution_count": 32,
   "id": "800e5166",
   "metadata": {},
   "outputs": [
    {
     "name": "stdout",
     "output_type": "stream",
     "text": [
      "[ 37  34  19  26 -18  -2]\n",
      "[37 34 19 26]\n"
     ]
    }
   ],
   "source": [
    "arr=n.random.randint(-23,56,6)\n",
    "print(arr)\n",
    "print(arr[n.where(arr>4)])"
   ]
  },
  {
   "cell_type": "markdown",
   "id": "50abfa4b",
   "metadata": {},
   "source": [
    "**7. return random numbers and search particular number given by the user**"
   ]
  },
  {
   "cell_type": "code",
   "execution_count": 33,
   "id": "3333656b",
   "metadata": {},
   "outputs": [
    {
     "name": "stdout",
     "output_type": "stream",
     "text": [
      "[ -5  -4  10 -26  25 -24   7 -23]\n",
      "10 found at (array([2]),) \n"
     ]
    }
   ],
   "source": [
    "ar = n.random.randint(-27,40,8)\n",
    "print(ar)\n",
    "i = int(input(\"Search : \"))\n",
    "print(f\"{i} found at {n.where(ar == i) if i in ar else print()} \")"
   ]
  },
  {
   "cell_type": "markdown",
   "id": "dc43dc5c",
   "metadata": {},
   "source": [
    "8. Write a Numpy program to save a given array to a text file and load it"
   ]
  },
  {
   "cell_type": "code",
   "execution_count": 34,
   "id": "d1f7c748",
   "metadata": {},
   "outputs": [
    {
     "name": "stdout",
     "output_type": "stream",
     "text": [
      "Data is  [28.  1. 30. 33. 14.]\n"
     ]
    }
   ],
   "source": [
    "ar = n.random.randint(1,80,5)\n",
    "t = n.savetxt(\"file.txt\", ar)\n",
    "t = n.loadtxt(\"file.txt\")\n",
    "print(\"Data is \",t)"
   ]
  },
  {
   "cell_type": "markdown",
   "id": "b12623f4",
   "metadata": {},
   "source": [
    "**9. Create an array of all even intigers from 30 to 60**"
   ]
  },
  {
   "cell_type": "code",
   "execution_count": 35,
   "id": "9190701a",
   "metadata": {},
   "outputs": [
    {
     "name": "stdout",
     "output_type": "stream",
     "text": [
      "[30 32 34 36 38 40 42 44 46 48 50 52 54 56 58 60]\n"
     ]
    }
   ],
   "source": [
    "print(n.arange(30,61,2))"
   ]
  },
  {
   "cell_type": "markdown",
   "id": "da519627",
   "metadata": {},
   "source": [
    "**10. Sum of all elements, each row and each column**"
   ]
  },
  {
   "cell_type": "code",
   "execution_count": 36,
   "id": "b23b3027",
   "metadata": {},
   "outputs": [
    {
     "name": "stdout",
     "output_type": "stream",
     "text": [
      "[[4 0 8 7 6]\n",
      " [3 0 6 2 7]\n",
      " [3 5 1 6 5]\n",
      " [3 8 1 4 3]\n",
      " [6 6 7 6 7]]\n",
      "Sum of all elements :  114\n",
      "Sum of rows :  [19 19 23 25 28]\n",
      "Sum of columns :  [25 18 20 19 32]\n"
     ]
    }
   ],
   "source": [
    "ar = n.random.randint(0,10,(5,5))\n",
    "print(ar)\n",
    "print(\"Sum of all elements : \", n.sum(ar))\n",
    "print(\"Sum of rows : \", n.sum(ar, axis=0))\n",
    "print(\"Sum of columns : \", n.sum(ar,axis=1))"
   ]
  }
 ],
 "metadata": {
  "kernelspec": {
   "display_name": "Python 3",
   "language": "python",
   "name": "python3"
  },
  "language_info": {
   "codemirror_mode": {
    "name": "ipython",
    "version": 3
   },
   "file_extension": ".py",
   "mimetype": "text/x-python",
   "name": "python",
   "nbconvert_exporter": "python",
   "pygments_lexer": "ipython3",
   "version": "3.12.7"
  }
 },
 "nbformat": 4,
 "nbformat_minor": 5
}
