{
 "cells": [
  {
   "cell_type": "markdown",
   "id": "b861b361",
   "metadata": {},
   "source": [
    "**Program to implement K-NN classification using any standard dataset available in the public domain and find accuracy of the algorithm**"
   ]
  },
  {
   "cell_type": "code",
   "execution_count": 1,
   "id": "878cb49a",
   "metadata": {},
   "outputs": [],
   "source": [
    "from sklearn.datasets import load_iris\n",
    "from sklearn.model_selection import train_test_split\n",
    "from sklearn.neighbors import KNeighborsClassifier\n",
    "from sklearn import metrics"
   ]
  },
  {
   "cell_type": "code",
   "execution_count": 2,
   "id": "e84e87f6",
   "metadata": {},
   "outputs": [
    {
     "name": "stdout",
     "output_type": "stream",
     "text": [
      "Accuracy 0.9529411764705882\n",
      "setosa\n"
     ]
    }
   ],
   "source": [
    "iri = load_iris()\n",
    "x = iri.data\n",
    "y = iri.target\n",
    "x_train , x_test, y_train, y_test = train_test_split(x,y,test_size = 0.56)\n",
    "c_knn = KNeighborsClassifier(n_neighbors = 3)\n",
    "c_knn.fit(x_train,y_train)\n",
    "y_pred = c_knn.predict(x_test)\n",
    "print(\"Accuracy\", metrics.accuracy_score(y_test, y_pred))\n",
    "sample = [[2,2,2,2]]\n",
    "pred = c_knn.predict(sample)\n",
    "pred_v = [iri.target_names[p] for p in pred]\n",
    "print(*pred_v)\n"
   ]
  },
  {
   "cell_type": "code",
   "execution_count": null,
   "id": "6561f591",
   "metadata": {},
   "outputs": [],
   "source": []
  }
 ],
 "metadata": {
  "kernelspec": {
   "display_name": "Python 3",
   "language": "python",
   "name": "python3"
  },
  "language_info": {
   "codemirror_mode": {
    "name": "ipython",
    "version": 3
   },
   "file_extension": ".py",
   "mimetype": "text/x-python",
   "name": "python",
   "nbconvert_exporter": "python",
   "pygments_lexer": "ipython3",
   "version": "3.12.7"
  }
 },
 "nbformat": 4,
 "nbformat_minor": 5
}
