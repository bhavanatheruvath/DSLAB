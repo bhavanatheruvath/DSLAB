{
 "cells": [
  {
   "cell_type": "markdown",
   "id": "9f62fdf3",
   "metadata": {},
   "source": [
    "Write a python program to create two matrices (read values from the user) and find the following"
   ]
  },
  {
   "cell_type": "code",
   "execution_count": 6,
   "id": "2c75d431",
   "metadata": {},
   "outputs": [],
   "source": [
    "import numpy as np"
   ]
  },
  {
   "cell_type": "code",
   "execution_count": 14,
   "id": "1f08e359",
   "metadata": {},
   "outputs": [
    {
     "name": "stdout",
     "output_type": "stream",
     "text": [
      "[[1, 2, 3], [4, 5, 6], [6, 7, 8]]\n",
      "[[1, 2], [3, 4], [5, 6]]\n"
     ]
    }
   ],
   "source": [
    "a,b = map(int,input(\"Enter the number of rows and column : \").split(\",\"))\n",
    "matrix = []\n",
    "for i in range(a):\n",
    "    mat = []\n",
    "    for j in range(b):\n",
    "        mat.append(int(input(f\"Enter ({i},{j}) : \")))\n",
    "    matrix.append(mat)\n",
    "print(matrix)\n",
    "\n",
    "c,d = map(int,input(\"Enter the number of rows and column for II matrix : \").split(\",\"))\n",
    "matrix2 = []\n",
    "for i in range(c):\n",
    "    mat2 = []\n",
    "    for j in range(d):\n",
    "        mat2.append(int(input(f\"Enter ({i},{j}) : \")))\n",
    "    matrix2.append(mat2)\n",
    "print(matrix2)"
   ]
  },
  {
   "cell_type": "markdown",
   "id": "bd5f220f",
   "metadata": {},
   "source": [
    "1. Dot Product"
   ]
  },
  {
   "cell_type": "code",
   "execution_count": 15,
   "id": "d67aa887",
   "metadata": {},
   "outputs": [
    {
     "name": "stdout",
     "output_type": "stream",
     "text": [
      "Dot product is : \n",
      " [[22 28]\n",
      " [49 64]\n",
      " [67 88]]\n"
     ]
    }
   ],
   "source": [
    "if(b==c):\n",
    "    print(\"Dot product is : \\n\",np.dot(matrix,matrix2))"
   ]
  },
  {
   "cell_type": "markdown",
   "id": "2f4e97ca",
   "metadata": {},
   "source": [
    "2. Transpose"
   ]
  },
  {
   "cell_type": "code",
   "execution_count": 16,
   "id": "e246a230",
   "metadata": {},
   "outputs": [
    {
     "name": "stdout",
     "output_type": "stream",
     "text": [
      "Transpose of matrix is : \n",
      " [[1 4 6]\n",
      " [2 5 7]\n",
      " [3 6 8]]\n"
     ]
    }
   ],
   "source": [
    "print(\"Transpose of matrix is : \\n\",np.transpose(matrix))"
   ]
  },
  {
   "cell_type": "markdown",
   "id": "6164d885",
   "metadata": {},
   "source": [
    "3. Trace"
   ]
  },
  {
   "cell_type": "code",
   "execution_count": 17,
   "id": "a6587154",
   "metadata": {},
   "outputs": [
    {
     "name": "stdout",
     "output_type": "stream",
     "text": [
      "Trace od the matrix is:  14\n"
     ]
    }
   ],
   "source": [
    "print(\"Trace od the matrix is: \",np.trace(matrix))"
   ]
  },
  {
   "cell_type": "markdown",
   "id": "dc20edbb",
   "metadata": {},
   "source": [
    "4. Rank"
   ]
  },
  {
   "cell_type": "code",
   "execution_count": 18,
   "id": "b84cc153",
   "metadata": {},
   "outputs": [
    {
     "name": "stdout",
     "output_type": "stream",
     "text": [
      "Rank of the matrix is:  2\n"
     ]
    }
   ],
   "source": [
    "print(\"Rank of the matrix is: \",np.linalg.matrix_rank(matrix))"
   ]
  },
  {
   "cell_type": "markdown",
   "id": "b4c20c04",
   "metadata": {},
   "source": [
    "5. Diterminant"
   ]
  },
  {
   "cell_type": "code",
   "execution_count": 19,
   "id": "44ce49a9",
   "metadata": {},
   "outputs": [
    {
     "name": "stdout",
     "output_type": "stream",
     "text": [
      "Determinent of matrix is :  -3.885780586188069e-15\n"
     ]
    }
   ],
   "source": [
    "print(\"Determinent of matrix is : \",np.linalg.det(matrix))"
   ]
  },
  {
   "cell_type": "markdown",
   "id": "e6846002",
   "metadata": {},
   "source": [
    "6. Inverse"
   ]
  },
  {
   "cell_type": "code",
   "execution_count": 20,
   "id": "e88ebc8b",
   "metadata": {},
   "outputs": [
    {
     "name": "stdout",
     "output_type": "stream",
     "text": [
      "Inverse of the matrix: \n",
      " [[ 5.14697100e+14 -1.28674275e+15  7.72045650e+14]\n",
      " [-1.02939420e+15  2.57348550e+15 -1.54409130e+15]\n",
      " [ 5.14697100e+14 -1.28674275e+15  7.72045650e+14]]\n"
     ]
    }
   ],
   "source": [
    "print(\"Inverse of the matrix: \\n\",np.linalg.inv(matrix))"
   ]
  },
  {
   "cell_type": "markdown",
   "id": "7e9cf48c",
   "metadata": {},
   "source": [
    "7. Eigen Values and Eigen Vectors"
   ]
  },
  {
   "cell_type": "code",
   "execution_count": 26,
   "id": "55bf47c2",
   "metadata": {},
   "outputs": [
    {
     "name": "stdout",
     "output_type": "stream",
     "text": [
      "Eigen Values : \n",
      "[ 1.50000000e+01 -1.00000000e+00  4.65763037e-17]\n",
      " Eigen Vectors are : \n",
      "[[ 2.49206599e-01  8.32050294e-01  4.08248290e-01]\n",
      " [ 5.69615084e-01 -4.59516133e-16 -8.16496581e-01]\n",
      " [ 7.83220740e-01 -5.54700196e-01  4.08248290e-01]]\n"
     ]
    }
   ],
   "source": [
    "val, vect = np.linalg.eig(matrix)\n",
    "print(f\"Eigen Values : \\n{val}\\n Eigen Vectors are : \\n{vect}\" )"
   ]
  }
 ],
 "metadata": {
  "kernelspec": {
   "display_name": "Python 3",
   "language": "python",
   "name": "python3"
  },
  "language_info": {
   "codemirror_mode": {
    "name": "ipython",
    "version": 3
   },
   "file_extension": ".py",
   "mimetype": "text/x-python",
   "name": "python",
   "nbconvert_exporter": "python",
   "pygments_lexer": "ipython3",
   "version": "3.12.7"
  }
 },
 "nbformat": 4,
 "nbformat_minor": 5
}
