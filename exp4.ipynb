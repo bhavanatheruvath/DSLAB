{
 "cells": [
  {
   "cell_type": "code",
   "execution_count": 1,
   "id": "56222645",
   "metadata": {},
   "outputs": [],
   "source": [
    "import pandas as pd"
   ]
  },
  {
   "cell_type": "markdown",
   "id": "a6f6b55a",
   "metadata": {},
   "source": [
    "**1.write a python program to implement List-to-Series conversion**"
   ]
  },
  {
   "cell_type": "code",
   "execution_count": 6,
   "id": "e98a2cd6",
   "metadata": {},
   "outputs": [
    {
     "name": "stdout",
     "output_type": "stream",
     "text": [
      "List: \n",
      "[10, 20, 30, 40, 50]\n",
      "Series: \n",
      "0    10\n",
      "1    20\n",
      "2    30\n",
      "3    40\n",
      "4    50\n",
      "dtype: int64 <class 'pandas.core.series.Series'>\n"
     ]
    }
   ],
   "source": [
    "x=[10,20,30,40,50]\n",
    "series=pd.Series(x)\n",
    "print(\"List: \")\n",
    "print(x)\n",
    "print(\"Series: \")\n",
    "print(series,type(series))"
   ]
  },
  {
   "cell_type": "markdown",
   "id": "7f3c750f",
   "metadata": {},
   "source": [
    "**2.write a python program to generate the series of data from 1st may,2021 to 12th may,2021(both inclusive)**"
   ]
  },
  {
   "cell_type": "code",
   "execution_count": 7,
   "id": "97dd48a2",
   "metadata": {},
   "outputs": [
    {
     "name": "stdout",
     "output_type": "stream",
     "text": [
      "2021-05-01\n",
      "2021-05-02\n",
      "2021-05-03\n",
      "2021-05-04\n",
      "2021-05-05\n",
      "2021-05-06\n",
      "2021-05-07\n",
      "2021-05-08\n",
      "2021-05-09\n",
      "2021-05-10\n",
      "2021-05-11\n",
      "2021-05-12\n"
     ]
    }
   ],
   "source": [
    "start='2021-05-01'\n",
    "end='2021-05-12'\n",
    "x=pd.date_range(start=start,end=end)\n",
    "for date in x:\n",
    "    print(date.strftime('%Y-%m-%d'))"
   ]
  },
  {
   "cell_type": "markdown",
   "id": "7279e3ee",
   "metadata": {},
   "source": [
    "**3.Given a dictinary,convert it into corresponding dataframe and display it**"
   ]
  },
  {
   "cell_type": "code",
   "execution_count": 11,
   "id": "2cda9c07",
   "metadata": {},
   "outputs": [
    {
     "name": "stdout",
     "output_type": "stream",
     "text": [
      "      name  age           city\n",
      "0    Aswin   22       Thamalam\n",
      "1  Bhavana   22    Kunnumpuram\n",
      "2   Deepak   21  Chembazhanthy\n",
      "3    Aaron   22         Ulloor\n"
     ]
    }
   ],
   "source": [
    "data={'name':['Aswin','Bhavana','Deepak','Aaron'],\n",
    "      'age':[22,22,21,22],\n",
    "      'city':['Thamalam','Kunnumpuram','Chembazhanthy','Ulloor']}\n",
    "df=pd.DataFrame(data)\n",
    "print(df)"
   ]
  },
  {
   "cell_type": "markdown",
   "id": "3b58fb0e",
   "metadata": {},
   "source": [
    "**4.Given a 2D list,convert it into corresponding dataframe and display it**"
   ]
  },
  {
   "cell_type": "code",
   "execution_count": 12,
   "id": "b9a22385",
   "metadata": {},
   "outputs": [
    {
     "name": "stdout",
     "output_type": "stream",
     "text": [
      "      Name  Age           City\n",
      "0    Aswin   22       Thamalam\n",
      "1  Bhavana   22    Kunnumpuram\n",
      "2   Deepak   21  Chembazhanthy\n"
     ]
    }
   ],
   "source": [
    "data=[['Aswin',22,'Thamalam'],['Bhavana',22,'Kunnumpuram'],['Deepak',21,'Chembazhanthy']]\n",
    "df=pd.DataFrame(data,columns=['Name','Age','City'])\n",
    "print(df)"
   ]
  },
  {
   "cell_type": "markdown",
   "id": "7b4ca37d",
   "metadata": {},
   "source": [
    "**5.Given a CSV file,read it into dataframe and display it**"
   ]
  },
  {
   "cell_type": "code",
   "execution_count": 15,
   "id": "c70cc09b",
   "metadata": {},
   "outputs": [
    {
     "name": "stdout",
     "output_type": "stream",
     "text": [
      "      Name  Age          Place\n",
      "0  Bhavana   22    Kunnumpuram\n",
      "1    Aswin   22       Thamalam\n",
      "2   Deepak   21  Chembazhanthy\n"
     ]
    }
   ],
   "source": [
    "df=pd.read_csv('4.csv')\n",
    "print(df)"
   ]
  },
  {
   "cell_type": "markdown",
   "id": "e97db5ee",
   "metadata": {},
   "source": [
    "**6.Given a dataframe,sort it by multiple columns**."
   ]
  },
  {
   "cell_type": "code",
   "execution_count": 19,
   "id": "a1751c3e",
   "metadata": {},
   "outputs": [
    {
     "name": "stdout",
     "output_type": "stream",
     "text": [
      "Original Dataframe: \n",
      "     name age\n",
      "0    babu  22\n",
      "1   aswin  23\n",
      "2  thappu  21\n",
      "3   aaron  24\n",
      "4   akhil  25\n",
      "5   aswin  20\n",
      "6  thappu  24\n",
      "\n",
      "Dataframe sorted by name then age(ascending):\n",
      "     name age\n",
      "3   aaron  24\n",
      "4   akhil  25\n",
      "5   aswin  20\n",
      "1   aswin  23\n",
      "0    babu  22\n",
      "2  thappu  21\n",
      "6  thappu  24\n"
     ]
    }
   ],
   "source": [
    "data={'name':['babu','aswin','thappu','aaron','akhil','aswin','thappu'],\n",
    "      'age':['22','23','21','24','25','20','24']}\n",
    "df=pd.DataFrame(data)\n",
    "print(\"Original Dataframe: \")\n",
    "print(df)\n",
    "\n",
    "df_sorted_asc=df.sort_values(by=['name','age'])\n",
    "print(\"\\nDataframe sorted by name then age(ascending):\")\n",
    "print(df_sorted_asc)"
   ]
  },
  {
   "cell_type": "markdown",
   "id": "0789ee6d",
   "metadata": {},
   "source": [
    "**7.given a dataframe with custom indexing,convert it to default indexing and display it**"
   ]
  },
  {
   "cell_type": "code",
   "execution_count": null,
   "id": "0d189e5b",
   "metadata": {},
   "outputs": [],
   "source": [
    "data={'name':['Aswin','Bhavana','Deepak','Aaron'],\n",
    "      'age':[22,22,21,22],\n",
    "      'city':['Thamalam','Kunnumpuram','Chembazhanthy','Ulloor']}\n",
    "index=['a','b','c']\n",
    "df=pd.DataFrame(data,index=index)\n",
    "print(\"original df: \")\n",
    "print(df)\n",
    "print(\"\\n\"+\"=\")"
   ]
  }
 ],
 "metadata": {
  "kernelspec": {
   "display_name": "Python 3",
   "language": "python",
   "name": "python3"
  },
  "language_info": {
   "codemirror_mode": {
    "name": "ipython",
    "version": 3
   },
   "file_extension": ".py",
   "mimetype": "text/x-python",
   "name": "python",
   "nbconvert_exporter": "python",
   "pygments_lexer": "ipython3",
   "version": "3.12.7"
  }
 },
 "nbformat": 4,
 "nbformat_minor": 5
}
