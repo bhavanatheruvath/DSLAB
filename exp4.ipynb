{
 "cells": [
  {
   "cell_type": "code",
   "execution_count": 12,
   "id": "56222645",
   "metadata": {},
   "outputs": [],
   "source": [
    "import pandas as pd\n",
    "import numpy as np"
   ]
  },
  {
   "cell_type": "markdown",
   "id": "a6f6b55a",
   "metadata": {},
   "source": [
    "**1.write a python program to implement List-to-Series conversion**"
   ]
  },
  {
   "cell_type": "code",
   "execution_count": 6,
   "id": "e98a2cd6",
   "metadata": {},
   "outputs": [
    {
     "name": "stdout",
     "output_type": "stream",
     "text": [
      "List: \n",
      "[10, 20, 30, 40, 50]\n",
      "Series: \n",
      "0    10\n",
      "1    20\n",
      "2    30\n",
      "3    40\n",
      "4    50\n",
      "dtype: int64 <class 'pandas.core.series.Series'>\n"
     ]
    }
   ],
   "source": [
    "x=[10,20,30,40,50]\n",
    "series=pd.Series(x)\n",
    "print(\"List: \")\n",
    "print(x)\n",
    "print(\"Series: \")\n",
    "print(series,type(series))"
   ]
  },
  {
   "cell_type": "markdown",
   "id": "7f3c750f",
   "metadata": {},
   "source": [
    "**2.write a python program to generate the series of data from 1st may,2021 to 12th may,2021(both inclusive)**"
   ]
  },
  {
   "cell_type": "code",
   "execution_count": 7,
   "id": "97dd48a2",
   "metadata": {},
   "outputs": [
    {
     "name": "stdout",
     "output_type": "stream",
     "text": [
      "2021-05-01\n",
      "2021-05-02\n",
      "2021-05-03\n",
      "2021-05-04\n",
      "2021-05-05\n",
      "2021-05-06\n",
      "2021-05-07\n",
      "2021-05-08\n",
      "2021-05-09\n",
      "2021-05-10\n",
      "2021-05-11\n",
      "2021-05-12\n"
     ]
    }
   ],
   "source": [
    "start='2021-05-01'\n",
    "end='2021-05-12'\n",
    "x=pd.date_range(start=start,end=end)\n",
    "for date in x:\n",
    "    print(date.strftime('%Y-%m-%d'))"
   ]
  },
  {
   "cell_type": "markdown",
   "id": "7279e3ee",
   "metadata": {},
   "source": [
    "**3.Given a dictinary,convert it into corresponding dataframe and display it**"
   ]
  },
  {
   "cell_type": "code",
   "execution_count": 11,
   "id": "2cda9c07",
   "metadata": {},
   "outputs": [
    {
     "name": "stdout",
     "output_type": "stream",
     "text": [
      "      name  age           city\n",
      "0    Aswin   22       Thamalam\n",
      "1  Bhavana   22    Kunnumpuram\n",
      "2   Deepak   21  Chembazhanthy\n",
      "3    Aaron   22         Ulloor\n"
     ]
    }
   ],
   "source": [
    "data={'name':['Aswin','Bhavana','Deepak','Aaron'],\n",
    "      'age':[22,22,21,22],\n",
    "      'city':['Thamalam','Kunnumpuram','Chembazhanthy','Ulloor']}\n",
    "df=pd.DataFrame(data)\n",
    "print(df)"
   ]
  },
  {
   "cell_type": "markdown",
   "id": "3b58fb0e",
   "metadata": {},
   "source": [
    "**4.Given a 2D list,convert it into corresponding dataframe and display it**"
   ]
  },
  {
   "cell_type": "code",
   "execution_count": 12,
   "id": "b9a22385",
   "metadata": {},
   "outputs": [
    {
     "name": "stdout",
     "output_type": "stream",
     "text": [
      "      Name  Age           City\n",
      "0    Aswin   22       Thamalam\n",
      "1  Bhavana   22    Kunnumpuram\n",
      "2   Deepak   21  Chembazhanthy\n"
     ]
    }
   ],
   "source": [
    "data=[['Aswin',22,'Thamalam'],['Bhavana',22,'Kunnumpuram'],['Deepak',21,'Chembazhanthy']]\n",
    "df=pd.DataFrame(data,columns=['Name','Age','City'])\n",
    "print(df)"
   ]
  },
  {
   "cell_type": "markdown",
   "id": "7b4ca37d",
   "metadata": {},
   "source": [
    "**5.Given a CSV file,read it into dataframe and display it**"
   ]
  },
  {
   "cell_type": "code",
   "execution_count": 15,
   "id": "c70cc09b",
   "metadata": {},
   "outputs": [
    {
     "name": "stdout",
     "output_type": "stream",
     "text": [
      "      Name  Age          Place\n",
      "0  Bhavana   22    Kunnumpuram\n",
      "1    Aswin   22       Thamalam\n",
      "2   Deepak   21  Chembazhanthy\n"
     ]
    }
   ],
   "source": [
    "df=pd.read_csv('4.csv')\n",
    "print(df)"
   ]
  },
  {
   "cell_type": "markdown",
   "id": "e97db5ee",
   "metadata": {},
   "source": [
    "**6.Given a dataframe,sort it by multiple columns**."
   ]
  },
  {
   "cell_type": "code",
   "execution_count": 19,
   "id": "a1751c3e",
   "metadata": {},
   "outputs": [
    {
     "name": "stdout",
     "output_type": "stream",
     "text": [
      "Original Dataframe: \n",
      "     name age\n",
      "0    babu  22\n",
      "1   aswin  23\n",
      "2  thappu  21\n",
      "3   aaron  24\n",
      "4   akhil  25\n",
      "5   aswin  20\n",
      "6  thappu  24\n",
      "\n",
      "Dataframe sorted by name then age(ascending):\n",
      "     name age\n",
      "3   aaron  24\n",
      "4   akhil  25\n",
      "5   aswin  20\n",
      "1   aswin  23\n",
      "0    babu  22\n",
      "2  thappu  21\n",
      "6  thappu  24\n"
     ]
    }
   ],
   "source": [
    "data={'name':['babu','aswin','thappu','aaron','akhil','aswin','thappu'],\n",
    "      'age':['22','23','21','24','25','20','24']}\n",
    "df=pd.DataFrame(data)\n",
    "print(\"Original Dataframe: \")\n",
    "print(df)\n",
    "\n",
    "df_sorted_asc=df.sort_values(by=['name','age'])\n",
    "print(\"\\nDataframe sorted by name then age(ascending):\")\n",
    "print(df_sorted_asc)"
   ]
  },
  {
   "cell_type": "markdown",
   "id": "0789ee6d",
   "metadata": {},
   "source": [
    "**7.given a dataframe with custom indexing,convert it to default indexing and display it**"
   ]
  },
  {
   "cell_type": "code",
   "execution_count": 4,
   "id": "0d189e5b",
   "metadata": {},
   "outputs": [
    {
     "name": "stdout",
     "output_type": "stream",
     "text": [
      "original df: \n",
      "      name  age           city\n",
      "a    Aswin   22       Thamalam\n",
      "b  Bhavana   22    Kunnumpuram\n",
      "c   Deepak   21  Chembazhanthy\n",
      "d    Aaron   22         Ulloor\n",
      "\n",
      "==============================\n",
      "\n",
      "df with default index: \n",
      "      name  age           city\n",
      "0    Aswin   22       Thamalam\n",
      "1  Bhavana   22    Kunnumpuram\n",
      "2   Deepak   21  Chembazhanthy\n",
      "3    Aaron   22         Ulloor\n"
     ]
    }
   ],
   "source": [
    "data={'name':['Aswin','Bhavana','Deepak','Aaron'],\n",
    "      'age':[22,22,21,22],\n",
    "      'city':['Thamalam','Kunnumpuram','Chembazhanthy','Ulloor']}\n",
    "index=['a','b','c','d']\n",
    "df=pd.DataFrame(data,index=index)\n",
    "print(\"original df: \")\n",
    "print(df)\n",
    "print(\"\\n\"+\"=\"*30 + \"\\n\")\n",
    "newdf=df.reset_index(drop=True)\n",
    "print(\"df with default index: \")\n",
    "\n",
    "print(newdf)"
   ]
  },
  {
   "cell_type": "markdown",
   "id": "c26223ff",
   "metadata": {},
   "source": [
    "**8.Given a dataframe,select first 2 rows and output them.**"
   ]
  },
  {
   "cell_type": "code",
   "execution_count": 5,
   "id": "ae88c0d2",
   "metadata": {},
   "outputs": [
    {
     "name": "stdout",
     "output_type": "stream",
     "text": [
      "      name  age         city\n",
      "0    Aswin   22     Thamalam\n",
      "1  Bhavana   22  Kunnumpuram\n"
     ]
    }
   ],
   "source": [
    "data={'name':['Aswin','Bhavana','Deepak','Aaron'],\n",
    "      'age':[22,22,21,22],\n",
    "      'city':['Thamalam','Kunnumpuram','Chembazhanthy','Ulloor']}\n",
    "df=pd.DataFrame(data)\n",
    "first_two_rows=df.head(2)\n",
    "print(first_two_rows)"
   ]
  },
  {
   "cell_type": "markdown",
   "id": "97b572ac",
   "metadata": {},
   "source": [
    "**9.Given a dataframe showing name,occupation,salary of people.Find the average salary per occupation.**"
   ]
  },
  {
   "cell_type": "code",
   "execution_count": 6,
   "id": "58401a04",
   "metadata": {},
   "outputs": [
    {
     "name": "stdout",
     "output_type": "stream",
     "text": [
      "occupation\n",
      "gamer      12500.0\n",
      "police     30000.0\n",
      "teacher    15000.0\n",
      "Name: salary, dtype: float64\n"
     ]
    }
   ],
   "source": [
    "data={'name':['Aswin','Bhavana','Deepak','Aaron','Akhil'],\n",
    "      'occupation':['gamer','teacher','police','teacher','gamer'],\n",
    "      'salary':[10000,20000,30000,10000,15000]}\n",
    "df=pd.DataFrame(data)\n",
    "salaries=df.groupby('occupation')['salary'].mean()\n",
    "print(salaries)"
   ]
  },
  {
   "cell_type": "markdown",
   "id": "b2f72d89",
   "metadata": {},
   "source": [
    "**10.Given a dataframe with NaN values,fill the NaN values with 0**"
   ]
  },
  {
   "cell_type": "code",
   "execution_count": 8,
   "id": "c8a7103a",
   "metadata": {},
   "outputs": [
    {
     "name": "stdout",
     "output_type": "stream",
     "text": [
      "original df: \n",
      "     A    B     C\n",
      "0  1.0  5.0   NaN\n",
      "1  2.0  NaN  10.0\n",
      "2  NaN  7.0  11.0\n",
      "3  4.0  8.0  12.0\n",
      "\n",
      "==============================\n",
      "\n",
      "Dataframe after filling NaN with 0: \n",
      "     A    B     C\n",
      "0  1.0  5.0   0.0\n",
      "1  2.0  0.0  10.0\n",
      "2  0.0  7.0  11.0\n",
      "3  4.0  8.0  12.0\n"
     ]
    }
   ],
   "source": [
    "data={'A':[1,2,np.nan,4],\n",
    "      'B':[5,np.nan,7,8],\n",
    "      'C':[np.nan,10,11,12]}\n",
    "df=pd.DataFrame(data)\n",
    "print(\"original df: \")\n",
    "print(df)\n",
    "print(\"\\n\"+\"=\"*30 + \"\\n\")\n",
    "df_filled=df.fillna(0)\n",
    "print(\"Dataframe after filling NaN with 0: \")\n",
    "print(df_filled)\n"
   ]
  },
  {
   "cell_type": "markdown",
   "id": "f6abb15b",
   "metadata": {},
   "source": [
    "**11.Given is a dataframe company names and corresponding profits. Convert the values of profit column such that values in it greater than 0 are set to true adn the rest are set to false**"
   ]
  },
  {
   "cell_type": "code",
   "execution_count": 10,
   "id": "07c6734c",
   "metadata": {},
   "outputs": [
    {
     "name": "stdout",
     "output_type": "stream",
     "text": [
      "        cname  profit\n",
      "0   comapny A   10000\n",
      "1   Company B   -5000\n",
      "2   Company C       0\n",
      "3   Company D    2500\n",
      "4   Company E    -100\n",
      "\n",
      "==============================\n",
      "\n",
      "DataFrame after Converting 'Profit Column : \n",
      "        cname  profit\n",
      "0   comapny A    True\n",
      "1   Company B   False\n",
      "2   Company C   False\n",
      "3   Company D    True\n",
      "4   Company E   False\n"
     ]
    }
   ],
   "source": [
    "data = {'cname' : ['comapny A', 'Company B', 'Company C',' Company D', 'Company E'], \n",
    "        'profit' :[10000, -5000, 0, 2500, -100]}\n",
    "\n",
    "df= pd.DataFrame(data)\n",
    "print(df)\n",
    "print(\"\\n\" + \"=\"*30 +\"\\n\")\n",
    "\n",
    "df['profit'] = df['profit']  > 0\n",
    "print(\"DataFrame after Converting 'Profit Column : \")\n",
    "print(df)"
   ]
  },
  {
   "cell_type": "markdown",
   "id": "aa683f91",
   "metadata": {},
   "source": [
    "**12.Given are 2 dataframe, with one dataframe containing Employee ID, Employee Name, and stipend and the other Dataframe containing Employee ID and designation. Output the DataFrame containing Employee ID, Employee name, Stipend and position**"
   ]
  },
  {
   "cell_type": "code",
   "execution_count": 14,
   "id": "7756174e",
   "metadata": {},
   "outputs": [
    {
     "name": "stdout",
     "output_type": "stream",
     "text": [
      "   eid  ename  stipend    position\n",
      "0  101   Babu    50000     Manager\n",
      "1  102  Theng    60000     Analyst\n",
      "2  103  vazha    75000  Supervisor\n",
      "3  104   plav    55000     Trainee\n"
     ]
    }
   ],
   "source": [
    "data1 = {'eid' : [101, 102, 103, 104],\n",
    "         'ename' : ['Babu', 'Theng', 'vazha', 'plav'],\n",
    "         'stipend' : [50000, 60000, 75000, 55000]\n",
    "         }\n",
    "df1 = pd.DataFrame(data1)\n",
    "data2 = {'eid' : [101,102,103,104],\n",
    "         'designation' : ['Manager', 'Analyst', 'Supervisor', 'Trainee']}\n",
    "df2 = pd.DataFrame(data2)\n",
    "\n",
    "merged_df = pd.merge(df1, df2, on = 'eid')\n",
    "\n",
    "merged_df.rename(columns = {'designation' : 'position'}, inplace = True)\n",
    "print(merged_df)"
   ]
  }
 ],
 "metadata": {
  "kernelspec": {
   "display_name": "Python 3",
   "language": "python",
   "name": "python3"
  },
  "language_info": {
   "codemirror_mode": {
    "name": "ipython",
    "version": 3
   },
   "file_extension": ".py",
   "mimetype": "text/x-python",
   "name": "python",
   "nbconvert_exporter": "python",
   "pygments_lexer": "ipython3",
   "version": "3.12.7"
  }
 },
 "nbformat": 4,
 "nbformat_minor": 5
}
